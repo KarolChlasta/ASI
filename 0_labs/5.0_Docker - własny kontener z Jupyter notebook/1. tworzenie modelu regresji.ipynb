{
 "cells": [
  {
   "cell_type": "markdown",
   "metadata": {
    "id": "8UD8EuOQmSgs"
   },
   "source": [
    "# Prognoza cen mieszkań w Bostonie"
   ]
  },
  {
   "cell_type": "markdown",
   "metadata": {
    "id": "7LxlnLqemSgt"
   },
   "source": [
    "## Problem"
   ]
  },
  {
   "cell_type": "markdown",
   "metadata": {
    "id": "MnYBxFtPmSgt"
   },
   "source": [
    "Jaką cenę będzie miało mieszkanie w zadanej okolicy?"
   ]
  },
  {
   "cell_type": "markdown",
   "metadata": {
    "id": "eoPB0kftmSgu"
   },
   "source": [
    "## Zbiór nauczający"
   ]
  },
  {
   "cell_type": "code",
   "execution_count": 2,
   "metadata": {
    "colab": {
     "base_uri": "https://localhost:8080/",
     "height": 443
    },
    "executionInfo": {
     "elapsed": 1875,
     "status": "error",
     "timestamp": 1604994932826,
     "user": {
      "displayName": "Andrzej Wodecki",
      "photoUrl": "https://lh3.googleusercontent.com/a-/AOh14GjonW5EbG-g_g7dmLg0xwNsef869CwtnoZkS1R0Qg=s64",
      "userId": "15583970232716185806"
     },
     "user_tz": -60
    },
    "id": "YwSSKz86mSgv",
    "outputId": "9b7efc72-e60c-4364-f8df-eee660784e20"
   },
   "outputs": [
    {
     "data": {
      "text/html": [
       "<div>\n",
       "<style scoped>\n",
       "    .dataframe tbody tr th:only-of-type {\n",
       "        vertical-align: middle;\n",
       "    }\n",
       "\n",
       "    .dataframe tbody tr th {\n",
       "        vertical-align: top;\n",
       "    }\n",
       "\n",
       "    .dataframe thead th {\n",
       "        text-align: right;\n",
       "    }\n",
       "</style>\n",
       "<table border=\"1\" class=\"dataframe\">\n",
       "  <thead>\n",
       "    <tr style=\"text-align: right;\">\n",
       "      <th></th>\n",
       "      <th>crim</th>\n",
       "      <th>zn</th>\n",
       "      <th>indus</th>\n",
       "      <th>chas</th>\n",
       "      <th>nox</th>\n",
       "      <th>rm</th>\n",
       "      <th>age</th>\n",
       "      <th>dis</th>\n",
       "      <th>rad</th>\n",
       "      <th>tax</th>\n",
       "      <th>ptratio</th>\n",
       "      <th>black</th>\n",
       "      <th>lstat</th>\n",
       "      <th>medv</th>\n",
       "    </tr>\n",
       "  </thead>\n",
       "  <tbody>\n",
       "    <tr>\n",
       "      <th>0</th>\n",
       "      <td>16.81180</td>\n",
       "      <td>0.0</td>\n",
       "      <td>18.1</td>\n",
       "      <td>0</td>\n",
       "      <td>0.700</td>\n",
       "      <td>5.277</td>\n",
       "      <td>98.1</td>\n",
       "      <td>1.4261</td>\n",
       "      <td>24</td>\n",
       "      <td>666</td>\n",
       "      <td>20.2</td>\n",
       "      <td>396.90</td>\n",
       "      <td>30.81</td>\n",
       "      <td>7.2</td>\n",
       "    </tr>\n",
       "    <tr>\n",
       "      <th>1</th>\n",
       "      <td>6.71772</td>\n",
       "      <td>0.0</td>\n",
       "      <td>18.1</td>\n",
       "      <td>0</td>\n",
       "      <td>0.713</td>\n",
       "      <td>6.749</td>\n",
       "      <td>92.6</td>\n",
       "      <td>2.3236</td>\n",
       "      <td>24</td>\n",
       "      <td>666</td>\n",
       "      <td>20.2</td>\n",
       "      <td>0.32</td>\n",
       "      <td>17.44</td>\n",
       "      <td>13.4</td>\n",
       "    </tr>\n",
       "    <tr>\n",
       "      <th>2</th>\n",
       "      <td>12.80230</td>\n",
       "      <td>0.0</td>\n",
       "      <td>18.1</td>\n",
       "      <td>0</td>\n",
       "      <td>0.740</td>\n",
       "      <td>5.854</td>\n",
       "      <td>96.6</td>\n",
       "      <td>1.8956</td>\n",
       "      <td>24</td>\n",
       "      <td>666</td>\n",
       "      <td>20.2</td>\n",
       "      <td>240.52</td>\n",
       "      <td>23.79</td>\n",
       "      <td>10.8</td>\n",
       "    </tr>\n",
       "  </tbody>\n",
       "</table>\n",
       "</div>"
      ],
      "text/plain": [
       "       crim   zn  indus  chas    nox     rm   age     dis  rad  tax  ptratio  \\\n",
       "0  16.81180  0.0   18.1     0  0.700  5.277  98.1  1.4261   24  666     20.2   \n",
       "1   6.71772  0.0   18.1     0  0.713  6.749  92.6  2.3236   24  666     20.2   \n",
       "2  12.80230  0.0   18.1     0  0.740  5.854  96.6  1.8956   24  666     20.2   \n",
       "\n",
       "    black  lstat  medv  \n",
       "0  396.90  30.81   7.2  \n",
       "1    0.32  17.44  13.4  \n",
       "2  240.52  23.79  10.8  "
      ]
     },
     "execution_count": 2,
     "metadata": {},
     "output_type": "execute_result"
    }
   ],
   "source": [
    "import pandas as pd\n",
    "import numpy as np\n",
    "zbior_nauczajacy = pd.read_csv(\"Boston.csv\", index_col=False)\n",
    "\n",
    "zbior_nauczajacy.head(3)"
   ]
  },
  {
   "cell_type": "markdown",
   "metadata": {
    "id": "A5_1SiZCmSgz"
   },
   "source": [
    "Cechy:\n",
    " \n",
    "CRIM - per capita crime rate by town   \n",
    "ZN - proportion of residential land zoned for lots over 25,000 sq.ft.   \n",
    "INDUS - proportion of non-retail business acres per town.   \n",
    "CHAS - Charles River dummy variable (1 if tract bounds river; 0 otherwise)   \n",
    "NOX - nitric oxides concentration (parts per 10 million)   \n",
    "RM - average number of rooms per dwelling   \n",
    "AGE - proportion of owner-occupied units built prior to 1940   \n",
    "DIS - weighted distances to five Boston employment centres   \n",
    "RAD - index of accessibility to radial highways   \n",
    "TAX - full-value property-tax rate per $10,000   \n",
    "PTRATIO - pupil-teacher ratio by town   \n",
    "BLACK - where Bk is the proportion of blacks by town   \n",
    "LSTAT - lower status of the population   \n",
    "\n",
    "\n",
    "Cecha, którą chcemy prognozować:\n",
    "  \n",
    "MEDV - Median value of owner-occupied homes in $1000's   "
   ]
  },
  {
   "cell_type": "markdown",
   "metadata": {
    "id": "wBv0xDuqmSg0"
   },
   "source": [
    "### Zbiór treningowy i testowy"
   ]
  },
  {
   "cell_type": "markdown",
   "metadata": {
    "id": "GkJDahWTmSg0"
   },
   "source": [
    "Na wstępie, podzielmy losowo nasz zbiór na dwie części: \n",
    "\n",
    "1. zbior_treningowy: na tych danych będziemy nauczali modele. Przyjmijmy, że będzie to 80% całego posiadanego zbioru.\n",
    "2. zbior_testowy: na tych danych będziemy testowali nasze modele. Będzie to 20% całego naszego zbioru danych"
   ]
  },
  {
   "cell_type": "code",
   "execution_count": 3,
   "metadata": {
    "colab": {
     "base_uri": "https://localhost:8080/",
     "height": 35
    },
    "executionInfo": {
     "elapsed": 1060,
     "status": "ok",
     "timestamp": 1588592195292,
     "user": {
      "displayName": "Andrzej Wodecki",
      "photoUrl": "https://lh3.googleusercontent.com/a-/AOh14GjonW5EbG-g_g7dmLg0xwNsef869CwtnoZkS1R0Qg=s64",
      "userId": "15583970232716185806"
     },
     "user_tz": -120
    },
    "id": "_VzLTEqxmSg1",
    "outputId": "3fa54774-fb3f-49b6-bd76-04fd5418875d"
   },
   "outputs": [
    {
     "data": {
      "text/plain": [
       "((384, 14), (96, 14))"
      ]
     },
     "execution_count": 3,
     "metadata": {},
     "output_type": "execute_result"
    }
   ],
   "source": [
    "from sklearn.model_selection import train_test_split\n",
    "\n",
    "zbior_treningowy, zbior_testowy = train_test_split(zbior_nauczajacy, test_size=0.2)\n",
    "\n",
    "#sprawdźmy wymiary\n",
    "zbior_treningowy.shape, zbior_testowy.shape"
   ]
  },
  {
   "cell_type": "code",
   "execution_count": null,
   "metadata": {
    "id": "aHKGnqjVmSg3"
   },
   "outputs": [],
   "source": []
  },
  {
   "cell_type": "markdown",
   "metadata": {
    "id": "_wqIp8kamSg6"
   },
   "source": [
    "## Model 1"
   ]
  },
  {
   "cell_type": "markdown",
   "metadata": {
    "id": "N6MhyDV_mSg6"
   },
   "source": [
    "Zaczniemy od wyboru cech, na których będziemy nauczali nasz model. Przyjmijmy, że będą to wszystkie cechy:  \n",
    "Od: CRIM - per capita crime rate by town  \n",
    "Do: LSTAT - lower status of the population \n",
    "\n",
    "Zwyczajowo, odpowiednie zbiory danych nazywa się:  \n",
    "X_train: zbiór TRENINGOWY z cechami objaśniającymi  \n",
    "y_train: zbiór TRENINGOWY z cechą, której chcemy nauczyć się odgadywać.  \n"
   ]
  },
  {
   "cell_type": "code",
   "execution_count": 4,
   "metadata": {
    "id": "pfGESvvumSg7"
   },
   "outputs": [],
   "source": [
    "cechy_objasniajace = [\n",
    "    'crim',\n",
    "    'zn',\n",
    "    'indus',\n",
    "    'chas',\n",
    "    'nox',\n",
    "    'rm',\n",
    "    'age',\n",
    "    'dis',\n",
    "    'rad',\n",
    "    'tax',\n",
    "    'ptratio',\n",
    "    'black',\n",
    "    'lstat'\n",
    "    ]"
   ]
  },
  {
   "cell_type": "code",
   "execution_count": 5,
   "metadata": {
    "id": "c4l5eeiomSg9"
   },
   "outputs": [],
   "source": [
    "X_train = zbior_treningowy.loc[:, cechy_objasniajace] # TRENINGOWY zbiór danych z cechami objaśniającymi\n",
    "y_train = zbior_treningowy['medv'] # TRENINGOWY zbiór danych z cechą, której chcemy nauczyć się odgadywać."
   ]
  },
  {
   "cell_type": "code",
   "execution_count": 6,
   "metadata": {
    "id": "fDPprYasJpoG",
    "outputId": "db8e7a1f-89a6-4116-fea8-a6a4c485c220"
   },
   "outputs": [
    {
     "data": {
      "text/html": [
       "<div>\n",
       "<style scoped>\n",
       "    .dataframe tbody tr th:only-of-type {\n",
       "        vertical-align: middle;\n",
       "    }\n",
       "\n",
       "    .dataframe tbody tr th {\n",
       "        vertical-align: top;\n",
       "    }\n",
       "\n",
       "    .dataframe thead th {\n",
       "        text-align: right;\n",
       "    }\n",
       "</style>\n",
       "<table border=\"1\" class=\"dataframe\">\n",
       "  <thead>\n",
       "    <tr style=\"text-align: right;\">\n",
       "      <th></th>\n",
       "      <th>crim</th>\n",
       "      <th>zn</th>\n",
       "      <th>indus</th>\n",
       "      <th>chas</th>\n",
       "      <th>nox</th>\n",
       "      <th>rm</th>\n",
       "      <th>age</th>\n",
       "      <th>dis</th>\n",
       "      <th>rad</th>\n",
       "      <th>tax</th>\n",
       "      <th>ptratio</th>\n",
       "      <th>black</th>\n",
       "      <th>lstat</th>\n",
       "    </tr>\n",
       "  </thead>\n",
       "  <tbody>\n",
       "    <tr>\n",
       "      <th>118</th>\n",
       "      <td>0.04684</td>\n",
       "      <td>0.0</td>\n",
       "      <td>3.41</td>\n",
       "      <td>0</td>\n",
       "      <td>0.4890</td>\n",
       "      <td>6.417</td>\n",
       "      <td>66.1</td>\n",
       "      <td>3.0923</td>\n",
       "      <td>2</td>\n",
       "      <td>270</td>\n",
       "      <td>17.8</td>\n",
       "      <td>392.18</td>\n",
       "      <td>8.81</td>\n",
       "    </tr>\n",
       "    <tr>\n",
       "      <th>28</th>\n",
       "      <td>0.13960</td>\n",
       "      <td>0.0</td>\n",
       "      <td>8.56</td>\n",
       "      <td>0</td>\n",
       "      <td>0.5200</td>\n",
       "      <td>6.167</td>\n",
       "      <td>90.0</td>\n",
       "      <td>2.4210</td>\n",
       "      <td>5</td>\n",
       "      <td>384</td>\n",
       "      <td>20.9</td>\n",
       "      <td>392.69</td>\n",
       "      <td>12.33</td>\n",
       "    </tr>\n",
       "    <tr>\n",
       "      <th>378</th>\n",
       "      <td>0.05660</td>\n",
       "      <td>0.0</td>\n",
       "      <td>3.41</td>\n",
       "      <td>0</td>\n",
       "      <td>0.4890</td>\n",
       "      <td>7.007</td>\n",
       "      <td>86.3</td>\n",
       "      <td>3.4217</td>\n",
       "      <td>2</td>\n",
       "      <td>270</td>\n",
       "      <td>17.8</td>\n",
       "      <td>396.90</td>\n",
       "      <td>5.50</td>\n",
       "    </tr>\n",
       "    <tr>\n",
       "      <th>210</th>\n",
       "      <td>0.03510</td>\n",
       "      <td>95.0</td>\n",
       "      <td>2.68</td>\n",
       "      <td>0</td>\n",
       "      <td>0.4161</td>\n",
       "      <td>7.853</td>\n",
       "      <td>33.2</td>\n",
       "      <td>5.1180</td>\n",
       "      <td>4</td>\n",
       "      <td>224</td>\n",
       "      <td>14.7</td>\n",
       "      <td>392.78</td>\n",
       "      <td>3.81</td>\n",
       "    </tr>\n",
       "    <tr>\n",
       "      <th>176</th>\n",
       "      <td>0.06263</td>\n",
       "      <td>0.0</td>\n",
       "      <td>11.93</td>\n",
       "      <td>0</td>\n",
       "      <td>0.5730</td>\n",
       "      <td>6.593</td>\n",
       "      <td>69.1</td>\n",
       "      <td>2.4786</td>\n",
       "      <td>1</td>\n",
       "      <td>273</td>\n",
       "      <td>21.0</td>\n",
       "      <td>391.99</td>\n",
       "      <td>9.67</td>\n",
       "    </tr>\n",
       "  </tbody>\n",
       "</table>\n",
       "</div>"
      ],
      "text/plain": [
       "        crim    zn  indus  chas     nox     rm   age     dis  rad  tax  \\\n",
       "118  0.04684   0.0   3.41     0  0.4890  6.417  66.1  3.0923    2  270   \n",
       "28   0.13960   0.0   8.56     0  0.5200  6.167  90.0  2.4210    5  384   \n",
       "378  0.05660   0.0   3.41     0  0.4890  7.007  86.3  3.4217    2  270   \n",
       "210  0.03510  95.0   2.68     0  0.4161  7.853  33.2  5.1180    4  224   \n",
       "176  0.06263   0.0  11.93     0  0.5730  6.593  69.1  2.4786    1  273   \n",
       "\n",
       "     ptratio   black  lstat  \n",
       "118     17.8  392.18   8.81  \n",
       "28      20.9  392.69  12.33  \n",
       "378     17.8  396.90   5.50  \n",
       "210     14.7  392.78   3.81  \n",
       "176     21.0  391.99   9.67  "
      ]
     },
     "execution_count": 6,
     "metadata": {},
     "output_type": "execute_result"
    }
   ],
   "source": [
    "X_train.head()"
   ]
  },
  {
   "cell_type": "code",
   "execution_count": 7,
   "metadata": {},
   "outputs": [
    {
     "data": {
      "text/plain": [
       "pandas.core.series.Series"
      ]
     },
     "execution_count": 7,
     "metadata": {},
     "output_type": "execute_result"
    }
   ],
   "source": [
    "type(y_train)"
   ]
  },
  {
   "cell_type": "markdown",
   "metadata": {
    "id": "W32QvzifmShA"
   },
   "source": [
    "A teraz zrobimy to samo, ale dla zbioru, na którym będziemy sprawdzać poprawność naszego modelu.\n",
    "\n",
    "Zwyczajowo, odpowiednie zbiory danych nazywa się:  \n",
    "X_test: zbiór TESTOWY z cechami objaśniającymi  \n",
    "y_test: zbiór TESTOWY z cechą, której chcemy nauczyć się odgadywać.  "
   ]
  },
  {
   "cell_type": "code",
   "execution_count": 8,
   "metadata": {
    "id": "8JK8nEjNmShB"
   },
   "outputs": [],
   "source": [
    "X_test = zbior_testowy.loc[:, 'crim':'lstat'] # TESTOWY zbiór danych z cechami objaśniającymi\n",
    "y_test= zbior_testowy['medv'] # TESTOWY zbiór danych z cechą, której chcemy nauczyć się odgadywać."
   ]
  },
  {
   "cell_type": "markdown",
   "metadata": {
    "id": "Pg0hCzhJmShD"
   },
   "source": [
    "Sprawdźmy jeszcze liczbę rekordów w poszczególnych plikach..."
   ]
  },
  {
   "cell_type": "code",
   "execution_count": 9,
   "metadata": {
    "colab": {
     "base_uri": "https://localhost:8080/",
     "height": 35
    },
    "executionInfo": {
     "elapsed": 626,
     "status": "ok",
     "timestamp": 1588592324647,
     "user": {
      "displayName": "Andrzej Wodecki",
      "photoUrl": "https://lh3.googleusercontent.com/a-/AOh14GjonW5EbG-g_g7dmLg0xwNsef869CwtnoZkS1R0Qg=s64",
      "userId": "15583970232716185806"
     },
     "user_tz": -120
    },
    "id": "RwFg9plEmShE",
    "outputId": "1c8bd17e-9663-490f-bccd-8c7f5b44c8b3"
   },
   "outputs": [
    {
     "name": "stdout",
     "output_type": "stream",
     "text": [
      "Będziemy mieli 384 rekordów treningowych oraz 96 rekordów testowych.\n"
     ]
    }
   ],
   "source": [
    "print(\"Będziemy mieli %d rekordów treningowych oraz %d rekordów testowych.\" % (len(X_train), len(X_test)))"
   ]
  },
  {
   "cell_type": "markdown",
   "metadata": {
    "id": "VSeGyWKMmShG"
   },
   "source": [
    "### Model"
   ]
  },
  {
   "cell_type": "markdown",
   "metadata": {
    "id": "NXGeGSx2mShH"
   },
   "source": [
    "Zacznijmy od zainicjowania modelu. Będzie to nasz prototyp, jeszcze nie nauczony..."
   ]
  },
  {
   "cell_type": "code",
   "execution_count": 10,
   "metadata": {
    "id": "fTA29BE6mShH"
   },
   "outputs": [],
   "source": [
    "from sklearn.linear_model import LinearRegression\n",
    "model_początkowy_1 = LinearRegression()"
   ]
  },
  {
   "cell_type": "markdown",
   "metadata": {
    "id": "zU9auMRjmShK"
   },
   "source": [
    "### Trening"
   ]
  },
  {
   "cell_type": "markdown",
   "metadata": {
    "id": "qO1RpCdZmShK"
   },
   "source": [
    "Wytrenujmy nasz model początkowy na danych treningowych (\"dopasujmy\" (fit) do tych danych)"
   ]
  },
  {
   "cell_type": "code",
   "execution_count": 11,
   "metadata": {
    "id": "97TpSRAgmShK"
   },
   "outputs": [],
   "source": [
    "model_nauczony_1 = model_początkowy_1.fit(X_train,y_train)"
   ]
  },
  {
   "cell_type": "markdown",
   "metadata": {
    "id": "nE1y9U3PmShN"
   },
   "source": [
    "### Ewaluacja"
   ]
  },
  {
   "cell_type": "markdown",
   "metadata": {
    "id": "fsJgFuRZmShP"
   },
   "source": [
    "Teraz sprawdzimy, na ile dobrze prognozuje nasz model.   \n"
   ]
  },
  {
   "cell_type": "markdown",
   "metadata": {
    "id": "0__pUIagmShQ"
   },
   "source": [
    "W pierwszej kolejności poprosimy nasz model o predykcję dla zbioru testowego.  \n",
    "Wygląda on następująco: jak widać, nie zawiera kolumny ze zmienną prognozowaną."
   ]
  },
  {
   "cell_type": "code",
   "execution_count": 12,
   "metadata": {
    "colab": {
     "base_uri": "https://localhost:8080/",
     "height": 198
    },
    "executionInfo": {
     "elapsed": 610,
     "status": "ok",
     "timestamp": 1588592465820,
     "user": {
      "displayName": "Andrzej Wodecki",
      "photoUrl": "https://lh3.googleusercontent.com/a-/AOh14GjonW5EbG-g_g7dmLg0xwNsef869CwtnoZkS1R0Qg=s64",
      "userId": "15583970232716185806"
     },
     "user_tz": -120
    },
    "id": "mBFFUfkkmShQ",
    "outputId": "909c62e6-b48a-4640-e011-487fca28f0f8"
   },
   "outputs": [
    {
     "data": {
      "text/html": [
       "<div>\n",
       "<style scoped>\n",
       "    .dataframe tbody tr th:only-of-type {\n",
       "        vertical-align: middle;\n",
       "    }\n",
       "\n",
       "    .dataframe tbody tr th {\n",
       "        vertical-align: top;\n",
       "    }\n",
       "\n",
       "    .dataframe thead th {\n",
       "        text-align: right;\n",
       "    }\n",
       "</style>\n",
       "<table border=\"1\" class=\"dataframe\">\n",
       "  <thead>\n",
       "    <tr style=\"text-align: right;\">\n",
       "      <th></th>\n",
       "      <th>crim</th>\n",
       "      <th>zn</th>\n",
       "      <th>indus</th>\n",
       "      <th>chas</th>\n",
       "      <th>nox</th>\n",
       "      <th>rm</th>\n",
       "      <th>age</th>\n",
       "      <th>dis</th>\n",
       "      <th>rad</th>\n",
       "      <th>tax</th>\n",
       "      <th>ptratio</th>\n",
       "      <th>black</th>\n",
       "      <th>lstat</th>\n",
       "    </tr>\n",
       "  </thead>\n",
       "  <tbody>\n",
       "    <tr>\n",
       "      <th>372</th>\n",
       "      <td>0.06664</td>\n",
       "      <td>0.0</td>\n",
       "      <td>4.05</td>\n",
       "      <td>0</td>\n",
       "      <td>0.510</td>\n",
       "      <td>6.546</td>\n",
       "      <td>33.1</td>\n",
       "      <td>3.1323</td>\n",
       "      <td>5</td>\n",
       "      <td>296</td>\n",
       "      <td>16.6</td>\n",
       "      <td>390.96</td>\n",
       "      <td>5.33</td>\n",
       "    </tr>\n",
       "    <tr>\n",
       "      <th>115</th>\n",
       "      <td>37.66190</td>\n",
       "      <td>0.0</td>\n",
       "      <td>18.10</td>\n",
       "      <td>0</td>\n",
       "      <td>0.679</td>\n",
       "      <td>6.202</td>\n",
       "      <td>78.7</td>\n",
       "      <td>1.8629</td>\n",
       "      <td>24</td>\n",
       "      <td>666</td>\n",
       "      <td>20.2</td>\n",
       "      <td>18.82</td>\n",
       "      <td>14.52</td>\n",
       "    </tr>\n",
       "    <tr>\n",
       "      <th>131</th>\n",
       "      <td>0.02177</td>\n",
       "      <td>82.5</td>\n",
       "      <td>2.03</td>\n",
       "      <td>0</td>\n",
       "      <td>0.415</td>\n",
       "      <td>7.610</td>\n",
       "      <td>15.7</td>\n",
       "      <td>6.2700</td>\n",
       "      <td>2</td>\n",
       "      <td>348</td>\n",
       "      <td>14.7</td>\n",
       "      <td>395.38</td>\n",
       "      <td>3.11</td>\n",
       "    </tr>\n",
       "    <tr>\n",
       "      <th>387</th>\n",
       "      <td>0.13554</td>\n",
       "      <td>12.5</td>\n",
       "      <td>6.07</td>\n",
       "      <td>0</td>\n",
       "      <td>0.409</td>\n",
       "      <td>5.594</td>\n",
       "      <td>36.8</td>\n",
       "      <td>6.4980</td>\n",
       "      <td>4</td>\n",
       "      <td>345</td>\n",
       "      <td>18.9</td>\n",
       "      <td>396.90</td>\n",
       "      <td>13.09</td>\n",
       "    </tr>\n",
       "    <tr>\n",
       "      <th>186</th>\n",
       "      <td>0.37578</td>\n",
       "      <td>0.0</td>\n",
       "      <td>10.59</td>\n",
       "      <td>1</td>\n",
       "      <td>0.489</td>\n",
       "      <td>5.404</td>\n",
       "      <td>88.6</td>\n",
       "      <td>3.6650</td>\n",
       "      <td>4</td>\n",
       "      <td>277</td>\n",
       "      <td>18.6</td>\n",
       "      <td>395.24</td>\n",
       "      <td>23.98</td>\n",
       "    </tr>\n",
       "  </tbody>\n",
       "</table>\n",
       "</div>"
      ],
      "text/plain": [
       "         crim    zn  indus  chas    nox     rm   age     dis  rad  tax  \\\n",
       "372   0.06664   0.0   4.05     0  0.510  6.546  33.1  3.1323    5  296   \n",
       "115  37.66190   0.0  18.10     0  0.679  6.202  78.7  1.8629   24  666   \n",
       "131   0.02177  82.5   2.03     0  0.415  7.610  15.7  6.2700    2  348   \n",
       "387   0.13554  12.5   6.07     0  0.409  5.594  36.8  6.4980    4  345   \n",
       "186   0.37578   0.0  10.59     1  0.489  5.404  88.6  3.6650    4  277   \n",
       "\n",
       "     ptratio   black  lstat  \n",
       "372     16.6  390.96   5.33  \n",
       "115     20.2   18.82  14.52  \n",
       "131     14.7  395.38   3.11  \n",
       "387     18.9  396.90  13.09  \n",
       "186     18.6  395.24  23.98  "
      ]
     },
     "execution_count": 12,
     "metadata": {},
     "output_type": "execute_result"
    }
   ],
   "source": [
    "X_test.head()"
   ]
  },
  {
   "cell_type": "markdown",
   "metadata": {
    "id": "I_Nks2nwmShS"
   },
   "source": [
    "Poprośmy teraz nasz model o jego prognozy"
   ]
  },
  {
   "cell_type": "code",
   "execution_count": 13,
   "metadata": {},
   "outputs": [
    {
     "data": {
      "text/plain": [
       "sklearn.linear_model._base.LinearRegression"
      ]
     },
     "execution_count": 13,
     "metadata": {},
     "output_type": "execute_result"
    }
   ],
   "source": [
    "type(model_nauczony_1)"
   ]
  },
  {
   "cell_type": "code",
   "execution_count": 14,
   "metadata": {
    "id": "Pu8LLr5fmShS"
   },
   "outputs": [],
   "source": [
    "prognozy = model_nauczony_1.predict(X_test)"
   ]
  },
  {
   "cell_type": "markdown",
   "metadata": {
    "id": "5hbEAfbemShU"
   },
   "source": [
    "Obejrzyjmy zbiór z prognozami..."
   ]
  },
  {
   "cell_type": "code",
   "execution_count": 15,
   "metadata": {},
   "outputs": [
    {
     "data": {
      "text/plain": [
       "numpy.ndarray"
      ]
     },
     "execution_count": 15,
     "metadata": {},
     "output_type": "execute_result"
    }
   ],
   "source": [
    "type(prognozy)"
   ]
  },
  {
   "cell_type": "code",
   "execution_count": 16,
   "metadata": {
    "colab": {
     "base_uri": "https://localhost:8080/",
     "height": 345
    },
    "executionInfo": {
     "elapsed": 609,
     "status": "ok",
     "timestamp": 1588592496466,
     "user": {
      "displayName": "Andrzej Wodecki",
      "photoUrl": "https://lh3.googleusercontent.com/a-/AOh14GjonW5EbG-g_g7dmLg0xwNsef869CwtnoZkS1R0Qg=s64",
      "userId": "15583970232716185806"
     },
     "user_tz": -120
    },
    "id": "TZHaSdvrmShU",
    "outputId": "836e66f1-5e96-420e-ca53-f3b53d415f3e"
   },
   "outputs": [
    {
     "name": "stdout",
     "output_type": "stream",
     "text": [
      "[30.53687828 14.06238477 36.4172301  17.45188651 17.16695532 33.02662817\n",
      " 19.41304493 12.08117153 31.41012964 30.80571351 13.5339028  10.39069708\n",
      " 15.61626837 38.73244833 20.40008918 16.93511004 23.51867361 25.47473644\n",
      " 24.15385363 35.78551062 35.21186218 34.16750417 32.25753437 24.0999721\n",
      " 19.97234824 15.76133319  7.03742973 10.60655873 34.0687733  24.79834744\n",
      " 16.1389775  20.81314201 29.93797647 22.21032628  8.46846115 22.42934065\n",
      " 23.34150473 27.43741338 32.71775049 17.40475721 20.9987836  21.91083823\n",
      " 20.22061967 19.36037292 30.5387472  40.01515574 16.88304646 15.21774396\n",
      " 14.2283461  24.21369817 21.90014901 11.73704495 14.60265785 25.18565368\n",
      " 18.92114282 23.91418803 15.49463493 24.0834206  30.99442253 20.36217527\n",
      " 17.19941471 12.79753593 25.19735813 35.91735238 20.68619295 17.76787961\n",
      " 26.50897193 25.99949637 24.70595137 17.72618066 34.38675085 30.01072579\n",
      " 20.32749028 17.17790869 21.22951123 23.77048377 19.92023154 14.5406666\n",
      " 19.07957976 36.32551439 23.13933457 13.92413782 27.02705162 23.8066185\n",
      " 20.23373039 12.13554389 17.26015503 32.45065746 25.75776984 29.75812122\n",
      " 28.34357045 22.54143876 29.34945461 23.98637099 25.1403439  13.91905759]\n",
      "\n",
      "\n",
      "Zbiór z prognozami ma 96 wartości, zaś zbiór testowy ma ich 96.\n"
     ]
    }
   ],
   "source": [
    "print(prognozy)\n",
    "print(\"\\n\")\n",
    "print(\"Zbiór z prognozami ma %d wartości, zaś zbiór testowy ma ich %d.\" % (len(prognozy), len(X_test)))"
   ]
  },
  {
   "cell_type": "markdown",
   "metadata": {
    "id": "gfsA_vn2mShW"
   },
   "source": [
    "Porównajmy teraz prognozy modelu z prawdziwymi danymi ze zbioru y_test.\n",
    "Zaczniemy od porównania parami...\n"
   ]
  },
  {
   "cell_type": "code",
   "execution_count": 17,
   "metadata": {
    "colab": {
     "base_uri": "https://localhost:8080/",
     "height": 1000
    },
    "executionInfo": {
     "elapsed": 629,
     "status": "ok",
     "timestamp": 1588592516825,
     "user": {
      "displayName": "Andrzej Wodecki",
      "photoUrl": "https://lh3.googleusercontent.com/a-/AOh14GjonW5EbG-g_g7dmLg0xwNsef869CwtnoZkS1R0Qg=s64",
      "userId": "15583970232716185806"
     },
     "user_tz": -120
    },
    "id": "8SYeMVEMmShX",
    "outputId": "40e84b64-9ec6-4253-da9b-4c274d58f756"
   },
   "outputs": [
    {
     "name": "stdout",
     "output_type": "stream",
     "text": [
      "30.536878275781362 29.4\n",
      "14.062384765772332 10.9\n",
      "36.417230104035276 42.3\n",
      "17.451886512535282 17.4\n",
      "17.166955315615663 19.3\n",
      "33.02662816846513 41.3\n",
      "19.41304493257869 18.5\n",
      "12.081171528097329 15.6\n",
      "31.410129637128268 29.9\n",
      "30.80571350798985 35.4\n",
      "13.533902799927475 12.3\n",
      "10.390697081254999 23.7\n",
      "15.616268373595695 16.6\n",
      "38.73244833315113 50.0\n",
      "20.400089177443057 20.4\n",
      "16.935110036067876 10.2\n",
      "23.51867360753187 19.4\n",
      "25.474736435220972 30.1\n",
      "24.15385363240855 22.2\n",
      "35.785510615617575 32.4\n",
      "35.211862175567006 35.1\n",
      "34.167504167051575 39.8\n",
      "32.25753436976568 31.6\n",
      "24.09997210314981 18.9\n",
      "19.972348237200343 13.3\n",
      "15.761333192897226 15.6\n",
      "7.037429726948801 10.5\n",
      "10.606558733632745 9.7\n",
      "34.06877330303369 43.8\n",
      "24.798347442823726 24.1\n",
      "16.138977496338068 20.2\n",
      "20.813142008380048 18.7\n",
      "29.937976470951085 30.1\n",
      "22.210326283313655 20.3\n",
      "8.46846114803482 7.2\n",
      "22.429340654334105 23.2\n",
      "23.341504733444204 24.4\n",
      "27.437413379383035 36.2\n",
      "32.71775049031551 27.0\n",
      "17.404757212370214 23.2\n",
      "20.99878359618304 18.8\n",
      "21.91083823195418 17.8\n",
      "20.220619665515173 22.9\n",
      "19.36037291893513 18.4\n",
      "30.53874720174786 23.5\n",
      "40.01515573558506 50.0\n",
      "16.88304645910317 17.6\n",
      "15.217743956891912 20.1\n",
      "14.228346097571347 15.7\n",
      "24.213698172537796 20.5\n",
      "21.90014901396441 18.9\n",
      "11.737044954869589 16.5\n",
      "14.602657845878028 14.8\n",
      "25.18565368305056 29.8\n",
      "18.92114281650034 16.1\n",
      "23.9141880342838 19.2\n",
      "15.494634926458385 18.4\n",
      "24.083420597538378 22.8\n",
      "30.994422534013665 31.5\n",
      "20.362175268188665 13.1\n",
      "17.19941471096204 13.0\n",
      "12.797535930252195 14.0\n",
      "25.19735813359091 26.5\n",
      "35.91735238490111 33.3\n",
      "20.68619294555694 21.8\n",
      "17.767879612937485 19.6\n",
      "26.508971925702195 50.0\n",
      "25.999496371644007 19.4\n",
      "24.705951374044332 28.1\n",
      "17.72618066385408 14.9\n",
      "34.38675084724548 31.0\n",
      "30.01072579348945 25.1\n",
      "20.32749027774183 21.4\n",
      "17.177908690858118 19.1\n",
      "21.229511234881034 19.0\n",
      "23.770483767640634 20.3\n",
      "19.92023153688785 24.3\n",
      "14.54066660192099 19.0\n",
      "19.079579759852543 19.9\n",
      "36.32551438623928 50.0\n",
      "23.139334565953124 24.4\n",
      "13.924137815296731 8.4\n",
      "27.027051617843505 22.6\n",
      "23.806618503743465 21.7\n",
      "20.23373038927833 17.7\n",
      "12.135543890518132 12.0\n",
      "17.260155030893287 17.1\n",
      "32.45065745962693 30.3\n",
      "25.757769842001238 23.2\n",
      "29.758121223119947 34.9\n",
      "28.343570451405256 23.3\n",
      "22.541438756977225 20.2\n",
      "29.34945461176158 24.3\n",
      "23.986370986625246 23.4\n",
      "25.14034390362199 22.9\n",
      "13.919057586076057 14.5\n"
     ]
    }
   ],
   "source": [
    "for i in range(len(prognozy)):\n",
    "    print(prognozy[i], y_test.to_numpy()[i])"
   ]
  },
  {
   "cell_type": "markdown",
   "metadata": {
    "id": "nT7WJV6OmShZ"
   },
   "source": [
    "Na koniec, obliczmy łączną miarę dokładności predykcji: RMSE (Root Mean Square Error)."
   ]
  },
  {
   "cell_type": "code",
   "execution_count": 18,
   "metadata": {
    "colab": {
     "base_uri": "https://localhost:8080/",
     "height": 35
    },
    "executionInfo": {
     "elapsed": 679,
     "status": "ok",
     "timestamp": 1588592583482,
     "user": {
      "displayName": "Andrzej Wodecki",
      "photoUrl": "https://lh3.googleusercontent.com/a-/AOh14GjonW5EbG-g_g7dmLg0xwNsef869CwtnoZkS1R0Qg=s64",
      "userId": "15583970232716185806"
     },
     "user_tz": -120
    },
    "id": "3t6UTCvvmShZ",
    "outputId": "a3ca18e7-d279-4a3f-e494-a1daa294c322"
   },
   "outputs": [
    {
     "name": "stdout",
     "output_type": "stream",
     "text": [
      "RMSE =  5.0032750438919615\n"
     ]
    }
   ],
   "source": [
    "from sklearn.metrics import mean_squared_error\n",
    "rmse_1 = np.sqrt(mean_squared_error(y_test, prognozy))\n",
    "print('RMSE = ', rmse_1)"
   ]
  },
  {
   "cell_type": "markdown",
   "metadata": {
    "id": "i5RnB0-8mShb"
   },
   "source": [
    "Na ile jest to dokładne? Obliczmy rozpiętość wartości skrajnych cen."
   ]
  },
  {
   "cell_type": "code",
   "execution_count": 19,
   "metadata": {
    "colab": {
     "base_uri": "https://localhost:8080/",
     "height": 52
    },
    "executionInfo": {
     "elapsed": 594,
     "status": "ok",
     "timestamp": 1588592589876,
     "user": {
      "displayName": "Andrzej Wodecki",
      "photoUrl": "https://lh3.googleusercontent.com/a-/AOh14GjonW5EbG-g_g7dmLg0xwNsef869CwtnoZkS1R0Qg=s64",
      "userId": "15583970232716185806"
     },
     "user_tz": -120
    },
    "id": "LAkufB6zmShc",
    "outputId": "f9e18e8d-da17-49d1-db2b-a340811e326e"
   },
   "outputs": [
    {
     "name": "stdout",
     "output_type": "stream",
     "text": [
      "Wartość minimalna w zbiorze testowym: 7\n",
      "Wartość maksymalna w zbiorze testowym: 50\n"
     ]
    }
   ],
   "source": [
    "print('Wartość minimalna w zbiorze testowym: %d' %(min(y_test)))\n",
    "print('Wartość maksymalna w zbiorze testowym: %d' %(max(y_test)))"
   ]
  },
  {
   "cell_type": "markdown",
   "metadata": {
    "id": "0vekzOpgmShf"
   },
   "source": [
    "## Model 2"
   ]
  },
  {
   "cell_type": "markdown",
   "metadata": {
    "id": "XiZBSvD2mShg"
   },
   "source": [
    "Wybierz cechy, na których będziesz nauczał(a) model.\n"
   ]
  },
  {
   "cell_type": "code",
   "execution_count": 20,
   "metadata": {
    "id": "5fvMfSY1mShg"
   },
   "outputs": [],
   "source": [
    "cechy_objasniajace = [\n",
    "    'crim',\n",
    "    'zn',\n",
    "    #'indus',\n",
    "    #'chas',\n",
    "    #'nox',\n",
    "    #'rm',\n",
    "    #'age',\n",
    "    #'dis',\n",
    "    #'rad',\n",
    "    #'tax',\n",
    "    #'ptratio',\n",
    "    #'black',\n",
    "    'lstat'\n",
    "    ]"
   ]
  },
  {
   "cell_type": "code",
   "execution_count": 21,
   "metadata": {
    "id": "G3tlOQGnmShh"
   },
   "outputs": [],
   "source": [
    "X_train = zbior_treningowy.loc[:, cechy_objasniajace] # TRENINGOWY zbiór danych z cechami objaśniającymi\n",
    "y_train = zbior_treningowy['medv'] # TRENINGOWY zbiór danych z cechą, której chcemy nauczyć się odgadywać."
   ]
  },
  {
   "cell_type": "code",
   "execution_count": 22,
   "metadata": {},
   "outputs": [
    {
     "data": {
      "text/html": [
       "<div>\n",
       "<style scoped>\n",
       "    .dataframe tbody tr th:only-of-type {\n",
       "        vertical-align: middle;\n",
       "    }\n",
       "\n",
       "    .dataframe tbody tr th {\n",
       "        vertical-align: top;\n",
       "    }\n",
       "\n",
       "    .dataframe thead th {\n",
       "        text-align: right;\n",
       "    }\n",
       "</style>\n",
       "<table border=\"1\" class=\"dataframe\">\n",
       "  <thead>\n",
       "    <tr style=\"text-align: right;\">\n",
       "      <th></th>\n",
       "      <th>crim</th>\n",
       "      <th>zn</th>\n",
       "      <th>lstat</th>\n",
       "    </tr>\n",
       "  </thead>\n",
       "  <tbody>\n",
       "    <tr>\n",
       "      <th>118</th>\n",
       "      <td>0.04684</td>\n",
       "      <td>0.0</td>\n",
       "      <td>8.81</td>\n",
       "    </tr>\n",
       "    <tr>\n",
       "      <th>28</th>\n",
       "      <td>0.13960</td>\n",
       "      <td>0.0</td>\n",
       "      <td>12.33</td>\n",
       "    </tr>\n",
       "    <tr>\n",
       "      <th>378</th>\n",
       "      <td>0.05660</td>\n",
       "      <td>0.0</td>\n",
       "      <td>5.50</td>\n",
       "    </tr>\n",
       "    <tr>\n",
       "      <th>210</th>\n",
       "      <td>0.03510</td>\n",
       "      <td>95.0</td>\n",
       "      <td>3.81</td>\n",
       "    </tr>\n",
       "    <tr>\n",
       "      <th>176</th>\n",
       "      <td>0.06263</td>\n",
       "      <td>0.0</td>\n",
       "      <td>9.67</td>\n",
       "    </tr>\n",
       "  </tbody>\n",
       "</table>\n",
       "</div>"
      ],
      "text/plain": [
       "        crim    zn  lstat\n",
       "118  0.04684   0.0   8.81\n",
       "28   0.13960   0.0  12.33\n",
       "378  0.05660   0.0   5.50\n",
       "210  0.03510  95.0   3.81\n",
       "176  0.06263   0.0   9.67"
      ]
     },
     "execution_count": 22,
     "metadata": {},
     "output_type": "execute_result"
    }
   ],
   "source": [
    "X_train.head()"
   ]
  },
  {
   "cell_type": "markdown",
   "metadata": {
    "id": "qbpFz-qMmShj"
   },
   "source": [
    "Wybierz odpowiednie cechy w zbiorze testowym "
   ]
  },
  {
   "cell_type": "code",
   "execution_count": 23,
   "metadata": {
    "id": "wflEYmU2mShj"
   },
   "outputs": [],
   "source": [
    "X_test = zbior_testowy.loc[:, cechy_objasniajace] # TESTOWY zbiór danych z cechami objaśniającymi\n",
    "y_test= zbior_testowy['medv'] # TESTOWY zbiór danych z cechą, której chcemy nauczyć się odgadywać."
   ]
  },
  {
   "cell_type": "markdown",
   "metadata": {
    "id": "HnI9vZG6mShl"
   },
   "source": [
    "Sprawdźmy jeszcze liczbę rekordów w poszczególnych plikach..."
   ]
  },
  {
   "cell_type": "markdown",
   "metadata": {
    "id": "k2YynRsjmShm"
   },
   "source": [
    "### Model"
   ]
  },
  {
   "cell_type": "markdown",
   "metadata": {
    "id": "t5NA8OK9mShm"
   },
   "source": [
    "Zacznijmy od zainicjowania modelu. Będzie to nasz prototyp, jeszcze nie nauczony..."
   ]
  },
  {
   "cell_type": "code",
   "execution_count": 24,
   "metadata": {
    "id": "ave1NwhhmShm"
   },
   "outputs": [],
   "source": [
    "from sklearn.linear_model import LinearRegression\n",
    "model_początkowy_2 = LinearRegression()\n"
   ]
  },
  {
   "cell_type": "markdown",
   "metadata": {
    "id": "91HJn5YEmSho"
   },
   "source": [
    "### Trening"
   ]
  },
  {
   "cell_type": "markdown",
   "metadata": {
    "id": "P1jFne21mSho"
   },
   "source": [
    "Wytrenujmy nasz model początkowy na danych treningowych (\"dopasujmy\" (fit) do tych danych)"
   ]
  },
  {
   "cell_type": "code",
   "execution_count": 25,
   "metadata": {
    "id": "t3qSc8oRmShp"
   },
   "outputs": [],
   "source": [
    "model_nauczony_2 = model_początkowy_2.fit(X_train,y_train)"
   ]
  },
  {
   "cell_type": "markdown",
   "metadata": {
    "id": "JgYh42JsmShq"
   },
   "source": [
    "### Ewaluacja"
   ]
  },
  {
   "cell_type": "markdown",
   "metadata": {
    "id": "TjQaEQgZmShq"
   },
   "source": [
    "Teraz sprawdzimy, na ile dobrze prognozuje nasz model.   \n"
   ]
  },
  {
   "cell_type": "code",
   "execution_count": 26,
   "metadata": {
    "id": "LG6wk5k7mShr"
   },
   "outputs": [],
   "source": [
    "prognozy = model_nauczony_2.predict(X_test)"
   ]
  },
  {
   "cell_type": "markdown",
   "metadata": {
    "id": "iU9USecxmShs"
   },
   "source": [
    "Porównajmy teraz prognozy modelu z prawdziwymi danymi ze zbioru y_test.\n",
    "Obliczmy łączną miarę dokładności predykcji: RMSE (Root Mean Square Error)."
   ]
  },
  {
   "cell_type": "code",
   "execution_count": 27,
   "metadata": {
    "id": "rf85YX0amSht",
    "outputId": "6669fae1-98eb-4690-c497-d8716f479ba3"
   },
   "outputs": [
    {
     "name": "stdout",
     "output_type": "stream",
     "text": [
      "RMSE_2 =  6.653298520278653\n"
     ]
    }
   ],
   "source": [
    "from sklearn.metrics import mean_squared_error\n",
    "rmse_2 = np.sqrt(mean_squared_error(y_test, prognozy))\n",
    "print('RMSE_2 = ', rmse_2)"
   ]
  },
  {
   "cell_type": "markdown",
   "metadata": {
    "id": "pyMZ0jxmmShu"
   },
   "source": [
    "## Model 3"
   ]
  },
  {
   "cell_type": "markdown",
   "metadata": {
    "id": "KhxwZ0HVmShv"
   },
   "source": [
    "Tym razem, poniżej zobaczysz metodę projektowania i tworzenia modelu w najbardziej syntetycznej formie, często spotykanej w realnych zastosowaniach."
   ]
  },
  {
   "cell_type": "code",
   "execution_count": 28,
   "metadata": {
    "id": "NX_WWNTmmShv",
    "outputId": "5c018d69-1fe3-4219-b0d7-34e844743b5e"
   },
   "outputs": [
    {
     "name": "stdout",
     "output_type": "stream",
     "text": [
      "RMSE_3 =  5.006179826722167\n"
     ]
    }
   ],
   "source": [
    "# Zaimportuj niezbędne biblioteki\n",
    "\n",
    "from sklearn.linear_model import Ridge\n",
    "from sklearn.metrics import mean_squared_error\n",
    "\n",
    "# Wybierz cechy, na których będziesz nauczał(a) model.\n",
    "cechy_objasniajace = [\n",
    "    'crim',\n",
    "    'zn',\n",
    "    'indus',\n",
    "    'chas',\n",
    "    'nox',\n",
    "    'rm',\n",
    "    'age',\n",
    "    'dis',\n",
    "    'rad',\n",
    "    'tax',\n",
    "    'ptratio',\n",
    "    'black',\n",
    "    'lstat'\n",
    "    ]\n",
    "# Stwórz zbiory: treningowy i testowy\n",
    "X_train = zbior_treningowy.loc[:, cechy_objasniajace] # TRENINGOWY zbiór danych z cechami objaśniającymi\n",
    "y_train = zbior_treningowy['medv'] # TRENINGOWY zbiór danych z cechą, której chcemy nauczyć się odgadywać.\n",
    "\n",
    "X_test = zbior_testowy.loc[:, cechy_objasniajace] # TESTOWY zbiór danych z cechami objaśniającymi\n",
    "y_test= zbior_testowy['medv'] # TESTOWY zbiór danych z cechą, której chcemy nauczyć się odgadywać.\n",
    "\n",
    "# Zainicjuj model\n",
    "model_początkowy_3 = Ridge()\n",
    "\n",
    "# Wytrenuj go\n",
    "model_nauczony_3 = model_początkowy_3.fit(X_train,y_train)\n",
    "\n",
    "# Sprawdź jego efektywność\n",
    "prognozy = model_nauczony_3.predict(X_test) #wygeneruj prognozy\n",
    "\n",
    "# Oblicz miarę efektywności\n",
    "rmse_3 = np.sqrt(mean_squared_error(y_test, prognozy))\n",
    "print('RMSE_3 = ', rmse_3)\n"
   ]
  },
  {
   "cell_type": "markdown",
   "metadata": {
    "id": "J_-XjuQrmShx"
   },
   "source": [
    "## Wnioski"
   ]
  },
  {
   "cell_type": "markdown",
   "metadata": {
    "id": "17rs6xdDmShx"
   },
   "source": [
    "Porównajmy teraz wyniki poszczególnych modeli."
   ]
  },
  {
   "cell_type": "code",
   "execution_count": 29,
   "metadata": {
    "id": "-p4157OrmShy",
    "outputId": "c7d60d96-b037-4b97-bada-9ac7e1346d13"
   },
   "outputs": [
    {
     "name": "stdout",
     "output_type": "stream",
     "text": [
      "LinearRegression()\n",
      "LinearRegression()\n",
      "Ridge()\n"
     ]
    }
   ],
   "source": [
    "modele = [model_nauczony_1, model_nauczony_2, model_nauczony_3]\n",
    "for i in range(3):\n",
    "    print(modele[i])"
   ]
  },
  {
   "cell_type": "code",
   "execution_count": 30,
   "metadata": {
    "id": "SWlxsUmBmSh0",
    "outputId": "6cd9bd41-1513-4f75-eee4-e8493aa00f81"
   },
   "outputs": [
    {
     "name": "stdout",
     "output_type": "stream",
     "text": [
      "RMSE_ 1  =  5.0032750438919615\n",
      "RMSE_ 2  =  6.653298520278653\n",
      "RMSE_ 3  =  5.006179826722167\n"
     ]
    }
   ],
   "source": [
    "RMSE = [rmse_1, rmse_2, rmse_3]\n",
    "for i in range(3):\n",
    "    print('RMSE_',i+1, ' = ', RMSE[i])"
   ]
  },
  {
   "cell_type": "markdown",
   "metadata": {
    "id": "TdLpvDsgmSh1"
   },
   "source": [
    "## Eksport modelu do pliku"
   ]
  },
  {
   "cell_type": "markdown",
   "metadata": {
    "id": "bh0KFI06mSh2"
   },
   "source": [
    "Najlepszym modelem jest model model_nauczony_1. Zapiszmy go więc do pliku tak, by móc później z niego korzystać w praktyce."
   ]
  },
  {
   "cell_type": "code",
   "execution_count": 31,
   "metadata": {
    "id": "DQg2iN_vmSh2"
   },
   "outputs": [],
   "source": [
    "import pickle\n",
    "\n",
    "pickle.dump(model_nauczony_1, open('nasz_regresor.sav', 'wb'))"
   ]
  },
  {
   "cell_type": "code",
   "execution_count": null,
   "metadata": {},
   "outputs": [],
   "source": [
    "    "
   ]
  }
 ],
 "metadata": {
  "colab": {
   "name": "1. tworzenie modelu regresji.ipynb",
   "provenance": []
  },
  "kernelspec": {
   "display_name": "Python 3",
   "language": "python",
   "name": "python3"
  },
  "language_info": {
   "codemirror_mode": {
    "name": "ipython",
    "version": 3
   },
   "file_extension": ".py",
   "mimetype": "text/x-python",
   "name": "python",
   "nbconvert_exporter": "python",
   "pygments_lexer": "ipython3",
   "version": "3.7.4"
  },
  "latex_envs": {
   "LaTeX_envs_menu_present": true,
   "autoclose": false,
   "autocomplete": true,
   "bibliofile": "biblio.bib",
   "cite_by": "apalike",
   "current_citInitial": 1,
   "eqLabelWithNumbers": true,
   "eqNumInitial": 1,
   "hotkeys": {
    "equation": "Ctrl-E",
    "itemize": "Ctrl-I"
   },
   "labels_anchors": false,
   "latex_user_defs": false,
   "report_style_numbering": false,
   "user_envs_cfg": false
  },
  "toc": {
   "base_numbering": 1,
   "nav_menu": {},
   "number_sections": true,
   "sideBar": true,
   "skip_h1_title": false,
   "title_cell": "Table of Contents",
   "title_sidebar": "Contents",
   "toc_cell": false,
   "toc_position": {},
   "toc_section_display": true,
   "toc_window_display": false
  }
 },
 "nbformat": 4,
 "nbformat_minor": 4
}
